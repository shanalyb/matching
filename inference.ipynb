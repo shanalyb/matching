{
 "cells": [
  {
   "cell_type": "code",
   "execution_count": 7,
   "metadata": {},
   "outputs": [],
   "source": [
    "import pickle\n",
    "import streamlit as st\n",
    "from catboost import CatBoostClassifier\n",
    "from tqdm import tqdm"
   ]
  },
  {
   "cell_type": "code",
   "execution_count": 11,
   "metadata": {},
   "outputs": [],
   "source": [
    "INPUT_NAME = 'jx nippon oil & gas exploration'"
   ]
  },
  {
   "cell_type": "code",
   "execution_count": 8,
   "metadata": {},
   "outputs": [],
   "source": [
    "def load_model():\n",
    "    model = CatBoostClassifier()\n",
    "    model.load_model('catboost_model', format='cbm')\n",
    "\n",
    "    return model\n",
    "\n",
    "def load_vectorizer():\n",
    "    vectorizer = pickle.load(open(\"tfidf.pickle\", \"rb\"))\n",
    "\n",
    "    return vectorizer\n",
    "\n",
    "def load_conn_comp():\n",
    "    conn_comp_lst = pickle.load(open(\"conn_comp\", \"rb\"))\n",
    "\n",
    "    return conn_comp_lst\n",
    "\n",
    "def match_company(model, veczr, connected_components_list, input_name):\n",
    "    predict_lst = []\n",
    "    for group in tqdm(connected_components_list):\n",
    "        group_lst = [input_name] * len(list(group))\n",
    "        input_vec = veczr.transform(group_lst)\n",
    "        group_vec = veczr.transform(list(group))\n",
    "        summ = input_vec + group_vec\n",
    "        predict_lst.append(model.predict_proba(summ)[:,1].mean())\n",
    "    max_idx = predict_lst.index(max(predict_lst))\n",
    "\n",
    "    return connected_components_list[max_idx]"
   ]
  },
  {
   "cell_type": "code",
   "execution_count": 9,
   "metadata": {},
   "outputs": [],
   "source": [
    "model = load_model()\n",
    "tfidf_veczr = load_vectorizer()\n",
    "cc_lst = load_conn_comp()"
   ]
  },
  {
   "cell_type": "code",
   "execution_count": 12,
   "metadata": {},
   "outputs": [
    {
     "name": "stderr",
     "output_type": "stream",
     "text": [
      "  1%|▏         | 6/441 [00:09<11:34,  1.60s/it]"
     ]
    }
   ],
   "source": [
    "group = match_company(model, tfidf_veczr, cc_lst, INPUT_NAME)\n",
    "group"
   ]
  },
  {
   "cell_type": "code",
   "execution_count": null,
   "metadata": {},
   "outputs": [],
   "source": []
  }
 ],
 "metadata": {
  "kernelspec": {
   "display_name": "Python 3.9.12 ('matching')",
   "language": "python",
   "name": "python3"
  },
  "language_info": {
   "codemirror_mode": {
    "name": "ipython",
    "version": 3
   },
   "file_extension": ".py",
   "mimetype": "text/x-python",
   "name": "python",
   "nbconvert_exporter": "python",
   "pygments_lexer": "ipython3",
   "version": "3.9.12"
  },
  "orig_nbformat": 4,
  "vscode": {
   "interpreter": {
    "hash": "050d1fde5f5ab75a4baec5b9510e2abaafd0fdd6ae25d6d8d8c72de901d2210b"
   }
  }
 },
 "nbformat": 4,
 "nbformat_minor": 2
}
